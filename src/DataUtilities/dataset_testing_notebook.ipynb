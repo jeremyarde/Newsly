{
 "cells": [
  {
   "cell_type": "code",
   "execution_count": 53,
   "metadata": {},
   "outputs": [],
   "source": [
    "import xlrd as xlrd\n",
    "import pandas as pd\n",
    "import os\n",
    "from sklearn.datasets import fetch_20newsgroups\n"
   ]
  },
  {
   "cell_type": "code",
   "execution_count": 52,
   "metadata": {},
   "outputs": [
    {
     "name": "stdout",
     "output_type": "stream",
     "text": [
      "Collecting sklearn\n",
      "Collecting scikit-learn (from sklearn)\n",
      "  Downloading https://files.pythonhosted.org/packages/c1/1c/8fa5aefe23a2fc254e9faadc10a30052c63d92f05fb59127ff0e65e4171c/scikit_learn-0.20.2-cp36-cp36m-win_amd64.whl (4.8MB)\n",
      "Requirement already satisfied: scipy>=0.13.3 in c:\\users\\jeremy\\appdata\\local\\programs\\python\\python36\\lib\\site-packages (from scikit-learn->sklearn) (1.1.0)\n",
      "Requirement already satisfied: numpy>=1.8.2 in c:\\users\\jeremy\\appdata\\local\\programs\\python\\python36\\lib\\site-packages (from scikit-learn->sklearn) (1.14.2)\n",
      "Installing collected packages: scikit-learn, sklearn\n",
      "Successfully installed scikit-learn-0.20.2 sklearn-0.0\n"
     ]
    }
   ],
   "source": [
    "!pip install sklearn"
   ]
  },
  {
   "cell_type": "code",
   "execution_count": 29,
   "metadata": {},
   "outputs": [
    {
     "data": {
      "text/plain": [
       "<bound method NDFrame.head of                                                    news      type\n",
       "0     China had role in Yukos split-up\\r\\n \\r\\n Chin...  business\n",
       "1     Oil rebounds from weather effect\\r\\n \\r\\n Oil ...  business\n",
       "2     Indonesia 'declines debt freeze'\\r\\n \\r\\n Indo...  business\n",
       "3     $1m payoff for former Shell boss\\r\\n \\r\\n Shel...  business\n",
       "4     US bank in $515m SEC settlement\\r\\n \\r\\n Five ...  business\n",
       "5     Verizon 'seals takeover of MCI'\\r\\n \\r\\n Veriz...  business\n",
       "6     Parmalat boasts doubled profits\\r\\n \\r\\n Parma...  business\n",
       "7     US seeks new $280bn smoker ruling\\r\\n \\r\\n The...  business\n",
       "8     Steel firm 'to cut' 45,000 jobs\\r\\n \\r\\n Mitta...  business\n",
       "9     Cars pull down US retail figures\\r\\n \\r\\n US r...  business\n",
       "10    Singapore growth at 8.1% in 2004\\r\\n \\r\\n Sing...  business\n",
       "11    UK bank seals South Korean deal\\r\\n \\r\\n UK-ba...  business\n",
       "12    ECB holds rates amid growth fears\\r\\n \\r\\n The...  business\n",
       "13    Rank 'set to sell off film unit'\\r\\n \\r\\n Leis...  business\n",
       "14    US adds more jobs than expected\\r\\n \\r\\n The U...  business\n",
       "15    House prices show slight increase\\r\\n \\r\\n Pri...  business\n",
       "16    Pension hitch for long-living men\\r\\n \\r\\n Mal...  business\n",
       "17    Asian quake hits European shares\\r\\n \\r\\n Shar...  business\n",
       "18    Honda wins China copyright ruling\\r\\n \\r\\n Jap...  business\n",
       "19    Bank set to leave rates on hold\\r\\n \\r\\n UK in...  business\n",
       "20    Macy's owner buys rival for $11bn\\r\\n \\r\\n US ...  business\n",
       "21    China suspends 26 power projects\\r\\n \\r\\n Chin...  business\n",
       "22    High fuel prices hit BA's profits\\r\\n \\r\\n Bri...  business\n",
       "23    Ebbers denies WorldCom fraud\\r\\n \\r\\n Former W...  business\n",
       "24    Oil prices fall back from highs\\r\\n \\r\\n Oil p...  business\n",
       "25    Bank voted 8-1 for no rate change\\r\\n \\r\\n The...  business\n",
       "26    US trade deficit widens sharply\\r\\n \\r\\n The g...  business\n",
       "27    Japan bank shares up on link talk\\r\\n \\r\\n Sha...  business\n",
       "28    Hyundai to build new India plant\\r\\n \\r\\n Sout...  business\n",
       "29    US in EU tariff chaos trade row\\r\\n \\r\\n The U...  business\n",
       "...                                                 ...       ...\n",
       "2195  Gadget growth fuels eco concerns\\r\\n \\r\\n Tech...      tech\n",
       "2196  Microsoft releases bumper patches\\r\\n \\r\\n Mic...      tech\n",
       "2197  Row brewing over peer-to-peer ads\\r\\n \\r\\n Mus...      tech\n",
       "2198  File-swappers ready new network\\r\\n \\r\\n Legal...      tech\n",
       "2199  Yahoo moves into desktop search\\r\\n \\r\\n Inter...      tech\n",
       "2200  Bush website blocked outside US\\r\\n \\r\\n Surfe...      tech\n",
       "2201  Mobile multimedia slow to catch on\\r\\n \\r\\n Th...      tech\n",
       "2202  Anti-spam laws bite spammer hard\\r\\n \\r\\n The ...      tech\n",
       "2203  Hollywood campaign hits websites\\r\\n \\r\\n Movi...      tech\n",
       "2204  More movies head to Sony's PSP\\r\\n \\r\\n Movies...      tech\n",
       "2205  TV's future down the phone line\\r\\n \\r\\n Inter...      tech\n",
       "2206  Open source leaders slam patents\\r\\n \\r\\n The ...      tech\n",
       "2207  Mobile music challenges 'iPod age'\\r\\n \\r\\n No...      tech\n",
       "2208  Dozens held over ID fraud site\\r\\n \\r\\n Twenty...      tech\n",
       "2209  Lasers help bridge network gaps\\r\\n \\r\\n An In...      tech\n",
       "2210  Mobiles rack up 20 years of use\\r\\n \\r\\n Mobil...      tech\n",
       "2211  US peer-to-peer pirates convicted\\r\\n \\r\\n The...      tech\n",
       "2212  Broadband challenges TV viewing\\r\\n \\r\\n The n...      tech\n",
       "2213  Gadgets galore on show at fair\\r\\n \\r\\n The 20...      tech\n",
       "2214  Text message record smashed again\\r\\n \\r\\n UK ...      tech\n",
       "2215  Apple makes blogs reveal sources\\r\\n \\r\\n Appl...      tech\n",
       "2216  Big war games battle it out\\r\\n \\r\\n The arriv...      tech\n",
       "2217  'Friends fear' with lost mobiles\\r\\n \\r\\n Peop...      tech\n",
       "2218  Podcasts mark rise of DIY radio\\r\\n \\r\\n An Ap...      tech\n",
       "2219  Microsoft releases patches\\r\\n \\r\\n Microsoft ...      tech\n",
       "2220  Microsoft launches its own search\\r\\n \\r\\n Mic...      tech\n",
       "2221  Warnings about junk mail deluge\\r\\n \\r\\n The a...      tech\n",
       "2222  Microsoft gets the blogging bug\\r\\n \\r\\n Softw...      tech\n",
       "2223  Gamers snap up new Sony PSP\\r\\n \\r\\n Gamers ha...      tech\n",
       "2224  Apple laptop is 'greatest gadget'\\r\\n \\r\\n The...      tech\n",
       "\n",
       "[2225 rows x 2 columns]>"
      ]
     },
     "execution_count": 29,
     "metadata": {},
     "output_type": "execute_result"
    }
   ],
   "source": [
    "data_path = \"C:\\\\Users\\\\Jeremy\\\\Documents\\\\Datasets\\\\BBC_news_dataset.csv\"\n",
    "df = pd.read_csv(data_path, encoding='latin1')\n",
    "df.head"
   ]
  }
 ],
 "metadata": {
  "kernelspec": {
   "display_name": "Python 3",
   "language": "python",
   "name": "python3"
  },
  "language_info": {
   "codemirror_mode": {
    "name": "ipython",
    "version": 3
   },
   "file_extension": ".py",
   "mimetype": "text/x-python",
   "name": "python",
   "nbconvert_exporter": "python",
   "pygments_lexer": "ipython3",
   "version": "3.6.5"
  }
 },
 "nbformat": 4,
 "nbformat_minor": 2
}
